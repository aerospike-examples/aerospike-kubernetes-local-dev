{
 "cells": [
  {
   "cell_type": "markdown",
   "metadata": {},
   "source": [
    "# Aerospike put-get example"
   ]
  },
  {
   "cell_type": "markdown",
   "metadata": {},
   "source": [
    "## Imports\n",
    "\n",
    "At minimum you must import the aerospike object."
   ]
  },
  {
   "cell_type": "code",
   "execution_count": null,
   "metadata": {},
   "outputs": [],
   "source": [
    "import sys\n",
    "import aerospike\n",
    "from pprint import pprint"
   ]
  },
  {
   "cell_type": "markdown",
   "metadata": {},
   "source": [
    "## configuration\n",
    "\n",
    "This config block controls [how we access the aerospike database](https://www.aerospike.com/docs/client/python/usage/connect/index.html#configuring-a-client). At minimum a seed address must be specified which in kubernetes could be either one of the aerospike pod ips or the name of the aerospike deployment."
   ]
  },
  {
   "cell_type": "code",
   "execution_count": null,
   "metadata": {},
   "outputs": [],
   "source": [
    "config = {\n",
    "    \"hosts\": [(\"cluster1-aerospike\", 3000)]\n",
    "}\n"
   ]
  },
  {
   "cell_type": "markdown",
   "metadata": {},
   "source": [
    "## Simple put and get\n",
    "\n",
    "We insert a record with some test data into our \"test\" namespace and then read it back. "
   ]
  },
  {
   "cell_type": "code",
   "execution_count": null,
   "metadata": {},
   "outputs": [],
   "source": [
    "client = aerospike.client(config).connect()\n",
    "namespace = \"test\"\n",
    "set = \"jupyter\"\n",
    "key = \"test-key\"\n",
    "\n",
    "record = {\n",
    "            'i': 123,\n",
    "            'f': 3.1415,\n",
    "            's': 'abc123',\n",
    "            'u': '안녕하세요',\n",
    "            'l': [123, 'abc', '안녕하세요', ['x', 'y', 'z'], {'x': 1, 'y': 2, 'z': 3}],\n",
    "            'm': {'i': 123, 's': 'abc', 'u': '안녕하세요', 'l': ['x', 'y', 'z'], 'd': {'x': 1, 'y': 2, 'z': 3}}\n",
    "        }\n",
    "client.put((namespace, set, key), record)\n",
    "\n",
    "result = client.get((namespace, set, key))\n",
    "\n",
    "pprint(result)\n"
   ]
  }
 ],
 "metadata": {
  "kernelspec": {
   "display_name": "Python 3",
   "language": "python",
   "name": "python3"
  },
  "language_info": {
   "codemirror_mode": {
    "name": "ipython",
    "version": 3
   },
   "file_extension": ".py",
   "mimetype": "text/x-python",
   "name": "python",
   "nbconvert_exporter": "python",
   "pygments_lexer": "ipython3",
   "version": "3.6.9"
  }
 },
 "nbformat": 4,
 "nbformat_minor": 2
}
